{
 "cells": [
  {
   "cell_type": "code",
   "execution_count": 363,
   "metadata": {},
   "outputs": [],
   "source": [
    "import pandas as pd \n",
    "import numpy as np\n",
    "from sklearn import datasets, linear_model\n",
    "from sklearn.model_selection import train_test_split\n",
    "from matplotlib import pyplot as plt\n",
    "from sklearn.metrics import classification_report, confusion_matrix\n",
    "from sklearn.preprocessing import StandardScaler  "
   ]
  },
  {
   "cell_type": "code",
   "execution_count": 364,
   "metadata": {},
   "outputs": [],
   "source": [
    "data=pd.read_csv('US Presidential Data.csv')"
   ]
  },
  {
   "cell_type": "code",
   "execution_count": 365,
   "metadata": {},
   "outputs": [
    {
     "data": {
      "text/html": [
       "<div>\n",
       "<style scoped>\n",
       "    .dataframe tbody tr th:only-of-type {\n",
       "        vertical-align: middle;\n",
       "    }\n",
       "\n",
       "    .dataframe tbody tr th {\n",
       "        vertical-align: top;\n",
       "    }\n",
       "\n",
       "    .dataframe thead th {\n",
       "        text-align: right;\n",
       "    }\n",
       "</style>\n",
       "<table border=\"1\" class=\"dataframe\">\n",
       "  <thead>\n",
       "    <tr style=\"text-align: right;\">\n",
       "      <th></th>\n",
       "      <th>Win/Loss</th>\n",
       "      <th>Optimism</th>\n",
       "      <th>Pessimism</th>\n",
       "      <th>PastUsed</th>\n",
       "      <th>FutureUsed</th>\n",
       "      <th>PresentUsed</th>\n",
       "      <th>OwnPartyCount</th>\n",
       "      <th>OppPartyCount</th>\n",
       "      <th>NumericContent</th>\n",
       "      <th>Extra</th>\n",
       "      <th>Emoti</th>\n",
       "      <th>Agree</th>\n",
       "      <th>Consc</th>\n",
       "      <th>Openn</th>\n",
       "    </tr>\n",
       "  </thead>\n",
       "  <tbody>\n",
       "    <tr>\n",
       "      <th>0</th>\n",
       "      <td>1</td>\n",
       "      <td>0.104505</td>\n",
       "      <td>0.050450</td>\n",
       "      <td>0.438144</td>\n",
       "      <td>0.494845</td>\n",
       "      <td>0.067010</td>\n",
       "      <td>2</td>\n",
       "      <td>2</td>\n",
       "      <td>0.001878</td>\n",
       "      <td>4.041</td>\n",
       "      <td>4.049</td>\n",
       "      <td>3.469</td>\n",
       "      <td>2.450</td>\n",
       "      <td>2.548</td>\n",
       "    </tr>\n",
       "    <tr>\n",
       "      <th>1</th>\n",
       "      <td>1</td>\n",
       "      <td>0.114575</td>\n",
       "      <td>0.059236</td>\n",
       "      <td>0.291262</td>\n",
       "      <td>0.621359</td>\n",
       "      <td>0.087379</td>\n",
       "      <td>1</td>\n",
       "      <td>4</td>\n",
       "      <td>0.001419</td>\n",
       "      <td>3.446</td>\n",
       "      <td>3.633</td>\n",
       "      <td>3.528</td>\n",
       "      <td>2.402</td>\n",
       "      <td>2.831</td>\n",
       "    </tr>\n",
       "    <tr>\n",
       "      <th>2</th>\n",
       "      <td>1</td>\n",
       "      <td>0.112572</td>\n",
       "      <td>0.049302</td>\n",
       "      <td>0.415966</td>\n",
       "      <td>0.516807</td>\n",
       "      <td>0.067227</td>\n",
       "      <td>1</td>\n",
       "      <td>1</td>\n",
       "      <td>0.002131</td>\n",
       "      <td>3.463</td>\n",
       "      <td>4.039</td>\n",
       "      <td>3.284</td>\n",
       "      <td>2.159</td>\n",
       "      <td>2.465</td>\n",
       "    </tr>\n",
       "    <tr>\n",
       "      <th>3</th>\n",
       "      <td>1</td>\n",
       "      <td>0.107234</td>\n",
       "      <td>0.046320</td>\n",
       "      <td>0.463492</td>\n",
       "      <td>0.466667</td>\n",
       "      <td>0.069841</td>\n",
       "      <td>1</td>\n",
       "      <td>3</td>\n",
       "      <td>0.001872</td>\n",
       "      <td>4.195</td>\n",
       "      <td>4.661</td>\n",
       "      <td>4.007</td>\n",
       "      <td>2.801</td>\n",
       "      <td>3.067</td>\n",
       "    </tr>\n",
       "    <tr>\n",
       "      <th>4</th>\n",
       "      <td>1</td>\n",
       "      <td>0.105826</td>\n",
       "      <td>0.051724</td>\n",
       "      <td>0.334262</td>\n",
       "      <td>0.582173</td>\n",
       "      <td>0.083565</td>\n",
       "      <td>3</td>\n",
       "      <td>4</td>\n",
       "      <td>0.002229</td>\n",
       "      <td>4.658</td>\n",
       "      <td>4.023</td>\n",
       "      <td>3.283</td>\n",
       "      <td>2.415</td>\n",
       "      <td>2.836</td>\n",
       "    </tr>\n",
       "  </tbody>\n",
       "</table>\n",
       "</div>"
      ],
      "text/plain": [
       "   Win/Loss  Optimism  Pessimism  PastUsed  FutureUsed  PresentUsed  \\\n",
       "0         1  0.104505   0.050450  0.438144    0.494845     0.067010   \n",
       "1         1  0.114575   0.059236  0.291262    0.621359     0.087379   \n",
       "2         1  0.112572   0.049302  0.415966    0.516807     0.067227   \n",
       "3         1  0.107234   0.046320  0.463492    0.466667     0.069841   \n",
       "4         1  0.105826   0.051724  0.334262    0.582173     0.083565   \n",
       "\n",
       "   OwnPartyCount  OppPartyCount  NumericContent  Extra  Emoti  Agree  Consc  \\\n",
       "0              2              2        0.001878  4.041  4.049  3.469  2.450   \n",
       "1              1              4        0.001419  3.446  3.633  3.528  2.402   \n",
       "2              1              1        0.002131  3.463  4.039  3.284  2.159   \n",
       "3              1              3        0.001872  4.195  4.661  4.007  2.801   \n",
       "4              3              4        0.002229  4.658  4.023  3.283  2.415   \n",
       "\n",
       "   Openn  \n",
       "0  2.548  \n",
       "1  2.831  \n",
       "2  2.465  \n",
       "3  3.067  \n",
       "4  2.836  "
      ]
     },
     "execution_count": 365,
     "metadata": {},
     "output_type": "execute_result"
    }
   ],
   "source": [
    "data.head()"
   ]
  },
  {
   "cell_type": "code",
   "execution_count": null,
   "metadata": {},
   "outputs": [],
   "source": []
  },
  {
   "cell_type": "code",
   "execution_count": 366,
   "metadata": {},
   "outputs": [
    {
     "name": "stdout",
     "output_type": "stream",
     "text": [
      "(1219, 13) (1219,)\n",
      "(305, 13) (305,)\n"
     ]
    }
   ],
   "source": [
    "# create training and testing vars\n",
    "x=data.drop('Win/Loss',axis=1)\n",
    "y=data['Win/Loss']\n",
    "\n",
    "X_train, X_test, y_train, y_test = train_test_split(x, y, test_size=0.2)\n",
    "\n",
    "train_set=(X_train,y_train)\n",
    "test_set=(X_test,y_test)\n",
    "\n",
    "print(X_train.shape, y_train.shape)\n",
    "print (X_test.shape, y_test.shape)\n",
    "\n"
   ]
  },
  {
   "cell_type": "code",
   "execution_count": 367,
   "metadata": {},
   "outputs": [],
   "source": [
    "scaler = StandardScaler()  \n",
    "scaler.fit(X_train)\n",
    "\n",
    "X_train = scaler.transform(X_train)  \n",
    "X_test = scaler.transform(X_test)  "
   ]
  },
  {
   "cell_type": "code",
   "execution_count": 368,
   "metadata": {},
   "outputs": [
    {
     "data": {
      "text/plain": [
       "KNeighborsClassifier(algorithm='auto', leaf_size=30, metric='minkowski',\n",
       "           metric_params=None, n_jobs=1, n_neighbors=1, p=2,\n",
       "           weights='uniform')"
      ]
     },
     "execution_count": 368,
     "metadata": {},
     "output_type": "execute_result"
    }
   ],
   "source": [
    "from sklearn.neighbors import KNeighborsClassifier  \n",
    "\n",
    "#knn1\n",
    "classifier = KNeighborsClassifier(n_neighbors=1)  \n",
    "classifier.fit(X_train, y_train) "
   ]
  },
  {
   "cell_type": "code",
   "execution_count": 369,
   "metadata": {},
   "outputs": [],
   "source": [
    "y_pred = classifier.predict(X_test)  "
   ]
  },
  {
   "cell_type": "code",
   "execution_count": 370,
   "metadata": {},
   "outputs": [
    {
     "name": "stdout",
     "output_type": "stream",
     "text": [
      "Classification Error: 0.25245901639344265\n",
      "Confusion Matrix:\n",
      " [[ 81  42]\n",
      " [ 35 147]]\n",
      "             precision    recall  f1-score   support\n",
      "\n",
      "          0       0.70      0.66      0.68       123\n",
      "          1       0.78      0.81      0.79       182\n",
      "\n",
      "avg / total       0.75      0.75      0.75       305\n",
      "\n"
     ]
    },
    {
     "data": {
      "text/plain": [
       "0.7475409836065574"
      ]
     },
     "execution_count": 370,
     "metadata": {},
     "output_type": "execute_result"
    }
   ],
   "source": [
    "c_error=(((y_pred - y_test) ** 2).sum()) / len(y_pred)\n",
    "print('Classification Error:',c_error)\n",
    "print('Confusion Matrix:\\n',confusion_matrix(y_test, y_pred))  \n",
    "print(classification_report(y_test, y_pred)) \n",
    "classifier.score(X_test,y_test)"
   ]
  },
  {
   "cell_type": "code",
   "execution_count": null,
   "metadata": {},
   "outputs": [],
   "source": []
  },
  {
   "cell_type": "code",
   "execution_count": 371,
   "metadata": {},
   "outputs": [
    {
     "name": "stdout",
     "output_type": "stream",
     "text": [
      "Error on 100 iteration:\n",
      "\n"
     ]
    },
    {
     "data": {
      "text/plain": [
       "[0.006557377049180328,\n",
       " 0.013114754098360656,\n",
       " 0.019672131147540985,\n",
       " 0.013114754098360656,\n",
       " 0.01639344262295082,\n",
       " 0.009836065573770493,\n",
       " 0.013114754098360656,\n",
       " 0.006557377049180328,\n",
       " 0.009836065573770493,\n",
       " 0.009836065573770493,\n",
       " 0.006557377049180328,\n",
       " 0.01639344262295082,\n",
       " 0.009836065573770493,\n",
       " 0.01639344262295082,\n",
       " 0.01639344262295082,\n",
       " 0.006557377049180328,\n",
       " 0.009836065573770493,\n",
       " 0.009836065573770493,\n",
       " 0.003278688524590164,\n",
       " 0.013114754098360656,\n",
       " 0.009836065573770493,\n",
       " 0.009836065573770493,\n",
       " 0.006557377049180328,\n",
       " 0.006557377049180328,\n",
       " 0.013114754098360656,\n",
       " 0.003278688524590164,\n",
       " 0.01639344262295082,\n",
       " 0.013114754098360656,\n",
       " 0.029508196721311476,\n",
       " 0.013114754098360656,\n",
       " 0.013114754098360656,\n",
       " 0.01639344262295082,\n",
       " 0.01639344262295082,\n",
       " 0.013114754098360656,\n",
       " 0.006557377049180328,\n",
       " 0.003278688524590164,\n",
       " 0.02622950819672131,\n",
       " 0.009836065573770493,\n",
       " 0.01639344262295082,\n",
       " 0.009836065573770493,\n",
       " 0.009836065573770493,\n",
       " 0.013114754098360656,\n",
       " 0.003278688524590164,\n",
       " 0.003278688524590164,\n",
       " 0.009836065573770493,\n",
       " 0.01639344262295082,\n",
       " 0.003278688524590164,\n",
       " 0.006557377049180328,\n",
       " 0.009836065573770493,\n",
       " 0.019672131147540985,\n",
       " 0.013114754098360656,\n",
       " 0.019672131147540985,\n",
       " 0.019672131147540985,\n",
       " 0.01639344262295082,\n",
       " 0.006557377049180328,\n",
       " 0.013114754098360656,\n",
       " 0.009836065573770493,\n",
       " 0.009836065573770493,\n",
       " 0.009836065573770493,\n",
       " 0.019672131147540985,\n",
       " 0.02622950819672131,\n",
       " 0.009836065573770493,\n",
       " 0.009836065573770493,\n",
       " 0.01639344262295082,\n",
       " 0.013114754098360656,\n",
       " 0.013114754098360656,\n",
       " 0.009836065573770493,\n",
       " 0.009836065573770493,\n",
       " 0.009836065573770493,\n",
       " 0.009836065573770493,\n",
       " 0.009836065573770493,\n",
       " 0.013114754098360656,\n",
       " 0.009836065573770493,\n",
       " 0.003278688524590164,\n",
       " 0.019672131147540985,\n",
       " 0.019672131147540985,\n",
       " 0.006557377049180328,\n",
       " 0.01639344262295082,\n",
       " 0.013114754098360656,\n",
       " 0.013114754098360656,\n",
       " 0.003278688524590164,\n",
       " 0.013114754098360656,\n",
       " 0.003278688524590164,\n",
       " 0.013114754098360656,\n",
       " 0.013114754098360656,\n",
       " 0.019672131147540985,\n",
       " 0.009836065573770493,\n",
       " 0.013114754098360656,\n",
       " 0.003278688524590164,\n",
       " 0.03278688524590164,\n",
       " 0.01639344262295082,\n",
       " 0.003278688524590164,\n",
       " 0.022950819672131147,\n",
       " 0.006557377049180328,\n",
       " 0.029508196721311476,\n",
       " 0.02622950819672131,\n",
       " 0.013114754098360656,\n",
       " 0.019672131147540985,\n",
       " 0.009836065573770493]"
      ]
     },
     "execution_count": 371,
     "metadata": {},
     "output_type": "execute_result"
    }
   ],
   "source": [
    "#run 100 times and see thr error\n",
    "\n",
    "error=[]\n",
    "\n",
    "#error claculation\n",
    "for i in range(1,100):\n",
    "    # create training and testing vars\n",
    "    y=data['Win/Loss']\n",
    "    X_train, X_test, y_train, y_test = train_test_split(data, y, test_size=0.2)\n",
    "\n",
    "\n",
    "    scaler = StandardScaler()  \n",
    "    scaler.fit(X_train)\n",
    "\n",
    "    X_train = scaler.transform(X_train)  \n",
    "    X_test = scaler.transform(X_test) \n",
    "\n",
    "    classifier = KNeighborsClassifier(n_neighbors=1)  \n",
    "    classifier.fit(X_train, y_train) \n",
    "    y_pred = classifier.predict(X_test) \n",
    "    error.append(np.mean(y_pred != y_test))\n",
    "    \n",
    "print('Error on 100 iteration:\\n')\n",
    "error"
   ]
  },
  {
   "cell_type": "code",
   "execution_count": null,
   "metadata": {},
   "outputs": [],
   "source": []
  },
  {
   "cell_type": "code",
   "execution_count": 372,
   "metadata": {},
   "outputs": [],
   "source": [
    "error=[]\n",
    "matrix=[]\n",
    "#error claculation\n",
    "for i in range(1,50):\n",
    "    knn=KNeighborsClassifier(n_neighbors=i)\n",
    "    knn.fit(X_train,y_train)\n",
    "    prediction=knn.predict(X_test)\n",
    "    error.append(np.mean(prediction != y_test))\n",
    "    matrix.append(classification_report(prediction,y_test))"
   ]
  },
  {
   "cell_type": "code",
   "execution_count": 373,
   "metadata": {},
   "outputs": [
    {
     "data": {
      "text/plain": [
       "Text(0,0.5,'Mean Error')"
      ]
     },
     "execution_count": 373,
     "metadata": {},
     "output_type": "execute_result"
    },
    {
     "data": {
      "image/png": "[encoded data removed]",
      "text/plain": [
       "<Figure size 864x432 with 1 Axes>"
      ]
     },
     "metadata": {},
     "output_type": "display_data"
    }
   ],
   "source": [
    "#plot\n",
    "plt.figure(figsize=(12, 6))\n",
    "plt.plot(range(1, 50), error, color='green', linestyle='dashed', marker='o',  \n",
    "         markerfacecolor='purple', markersize=10)\n",
    "plt.title('Error Rate K Value')  \n",
    "plt.xlabel('K Value')  \n",
    "plt.ylabel('Mean Error')  \n"
   ]
  },
  {
   "cell_type": "code",
   "execution_count": null,
   "metadata": {},
   "outputs": [],
   "source": []
  },
  {
   "cell_type": "code",
   "execution_count": null,
   "metadata": {},
   "outputs": [],
   "source": []
  },
  {
   "cell_type": "code",
   "execution_count": null,
   "metadata": {},
   "outputs": [],
   "source": []
  }
 ],
 "metadata": {
  "kernelspec": {
   "display_name": "Python 3",
   "language": "python",
   "name": "python3"
  },
  "language_info": {
   "codemirror_mode": {
    "name": "ipython",
    "version": 3
   },
   "file_extension": ".py",
   "mimetype": "text/x-python",
   "name": "python",
   "nbconvert_exporter": "python",
   "pygments_lexer": "ipython3",
   "version": "3.6.6"
  }
 },
 "nbformat": 4,
 "nbformat_minor": 2
}
